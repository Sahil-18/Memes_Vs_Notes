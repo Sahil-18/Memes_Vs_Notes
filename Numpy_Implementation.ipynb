{
  "nbformat": 4,
  "nbformat_minor": 0,
  "metadata": {
    "colab": {
      "name": "Numpy_Implementation.ipynb",
      "provenance": [],
      "collapsed_sections": [],
      "mount_file_id": "1fBMr_hS0oow70-hPJTs4PdBajefZU_Rj",
      "authorship_tag": "ABX9TyNHaFM3z69mTj32vi1Df0oH",
      "include_colab_link": true
    },
    "kernelspec": {
      "name": "python3",
      "display_name": "Python 3"
    }
  },
  "cells": [
    {
      "cell_type": "markdown",
      "metadata": {
        "id": "view-in-github",
        "colab_type": "text"
      },
      "source": [
        "<a href=\"https://colab.research.google.com/github/Sahil-18/Memes_Vs_Notes/blob/master/Numpy_Implementation.ipynb\" target=\"_parent\"><img src=\"https://colab.research.google.com/assets/colab-badge.svg\" alt=\"Open In Colab\"/></a>"
      ]
    },
    {
      "cell_type": "code",
      "metadata": {
        "id": "kQXsK3ncSIlc",
        "colab_type": "code",
        "colab": {}
      },
      "source": [
        "import numpy as np\n",
        "import matplotlib.pyplot as plt\n",
        "import h5py\n",
        "import scipy\n",
        "import PIL\n",
        "from PIL import Image\n",
        "from scipy import ndimage\n",
        "import math\n",
        "\n",
        "%matplotlib inline"
      ],
      "execution_count": null,
      "outputs": []
    },
    {
      "cell_type": "code",
      "metadata": {
        "id": "NVYj0YhSTLcy",
        "colab_type": "code",
        "colab": {}
      },
      "source": [
        "# Sigmoid Function\n",
        "# function input is 'X'\n",
        "# function return an array\n",
        "\n",
        "def sigmoid(x):\n",
        "  s = 1/(1+np.exp(-x))\n",
        "  return s,x"
      ],
      "execution_count": null,
      "outputs": []
    },
    {
      "cell_type": "code",
      "metadata": {
        "id": "oU4JH3Z5UMdq",
        "colab_type": "code",
        "colab": {}
      },
      "source": [
        "# Sigmoid derivative function\n",
        "# Function input is 'X'\n",
        "# function returns an array of 'ds'\n",
        "\n",
        "def sigmoid_backward(dA,x):\n",
        "  s = 1/(1+np.exp(-x))\n",
        "  ds = np.multiply(dA,(np.array(s)*np.array(1-s)))\n",
        "  return ds"
      ],
      "execution_count": null,
      "outputs": []
    },
    {
      "cell_type": "code",
      "metadata": {
        "id": "Qgl7hs-eVIrj",
        "colab_type": "code",
        "colab": {}
      },
      "source": [
        "# Relu function \n",
        "# function input is 'X'\n",
        "# function return an array\n",
        "\n",
        "def relu(z):\n",
        "  s=np.maximum(z,0)\n",
        "  return s, z"
      ],
      "execution_count": null,
      "outputs": []
    },
    {
      "cell_type": "code",
      "metadata": {
        "id": "UQwXLX6gjC5S",
        "colab_type": "code",
        "colab": {}
      },
      "source": [
        "# Relu derivative function\n",
        "# function input is 'X'\n",
        "# function returns an array of 'ds'\n",
        "\n",
        "def relu_backward(dA,z):\n",
        "  s=np.maximum(z,0)\n",
        "  p=s>0\n",
        "  return np.multiply(dA,p)"
      ],
      "execution_count": null,
      "outputs": []
    },
    {
      "cell_type": "code",
      "metadata": {
        "id": "HG6_Cnj4jEss",
        "colab_type": "code",
        "colab": {}
      },
      "source": [
        "# Initializing parameters for L layer network\n",
        "# function input is 'layer_dims' which has information about no of nuerons in given layer\n",
        "# function return 'parameters', 'momentum', 'RMSprop' dictionary\n",
        "\n",
        "def initialize_parameters_L_layers(layer_dims):\n",
        "  np.random.seed(3)\n",
        "  parameters = {}\n",
        "  momentum={}\n",
        "  RMSprop={}\n",
        "  L = len(layer_dims) \n",
        "\n",
        "  for l in range(1,L):\n",
        "    parameters['W'+str(l)]=np.random.randn(layer_dims[l],layer_dims[l-1])*np.sqrt(2/layer_dims[l-1])\n",
        "    parameters['b'+str(l)]=np.zeros((layer_dims[l],1))\n",
        "    momentum['VdW'+str(l)]=np.zeros((layer_dims[l],layer_dims[l-1]))\n",
        "    momentum['Vdb'+str(l)]=np.zeros((layer_dims[l],1))\n",
        "    RMSprop['SdW'+str(l)]=np.zeros((layer_dims[l],layer_dims[l-1]))\n",
        "    RMSprop['Sdb'+str(l)]=np.zeros((layer_dims[l],1))\n",
        "\n",
        "  return parameters, momentum, RMSprop"
      ],
      "execution_count": null,
      "outputs": []
    },
    {
      "cell_type": "code",
      "metadata": {
        "id": "rvOxxoSKjzEG",
        "colab_type": "code",
        "colab": {}
      },
      "source": [
        "# Linear forward function\n",
        "# function inputs are Activation from previous layer, W, b\n",
        "# function returns Z and cache that contains (A,W,b) which is received by Z and linear_cache\n",
        "\n",
        "def linear_forward(A,W,b):\n",
        "  Z=np.dot(W,A)+b\n",
        "  cache=(A,W,b)\n",
        "  \n",
        "  return Z,cache"
      ],
      "execution_count": null,
      "outputs": []
    },
    {
      "cell_type": "code",
      "metadata": {
        "id": "7C6pVl1on2qr",
        "colab_type": "code",
        "colab": {}
      },
      "source": [
        "# Linear activatoin forward function\n",
        "# function inputs are Activation from previous layer, W, b , activation\n",
        "# function returns A and cache that contains linear cache and linear activation cache\n",
        "# linear activation cache contain z value which activation function returns\n",
        "\n",
        "def linear_activation_forward(A_prev,W,b,activation):\n",
        "  if activation=='sigmoid':\n",
        "    Z,linear_cache=linear_forward(A_prev,W,b)\n",
        "    A,linear_activation_cache=sigmoid(Z)\n",
        "  elif activation=='relu':\n",
        "    Z,linear_cache=linear_forward(A_prev,W,b)\n",
        "    A,linear_activation_cache=relu(Z)\n",
        "\n",
        "  cache=(linear_cache,linear_activation_cache)\n",
        "\n",
        "  return A, cache"
      ],
      "execution_count": null,
      "outputs": []
    },
    {
      "cell_type": "code",
      "metadata": {
        "id": "k7Gc04lS3-me",
        "colab_type": "code",
        "colab": {}
      },
      "source": [
        "# L layer linear forward function\n",
        "# function inputs are 'X' and 'parameters'\n",
        "# function returns AL and caches. Caches contains all linear cache and linear activatonn cache.\n",
        "\n",
        "def L_model_forward(X,parameters):\n",
        "  caches=[]\n",
        "  A=X\n",
        "  L= len(parameters)//2\n",
        "\n",
        "  for l in range(1,L):\n",
        "    A_prev=A\n",
        "    A, cache=linear_activation_forward(A_prev,parameters['W'+str(l)],parameters['b'+str(l)],activation='relu')\n",
        "    caches.append(cache)\n",
        "\n",
        "  AL, cache = linear_activation_forward(A,parameters['W'+str(L)],parameters['b'+str(L)],activation='sigmoid')\n",
        "  caches.append(cache)\n",
        "\n",
        "  return AL, caches"
      ],
      "execution_count": null,
      "outputs": []
    },
    {
      "cell_type": "code",
      "metadata": {
        "id": "rNb7xIhYqVnJ",
        "colab_type": "code",
        "colab": {}
      },
      "source": [
        "# cost computation function \n",
        "# function inputs are AL and Y\n",
        "# function returns cost \n",
        "\n",
        "def cost_compute(AL,Y):\n",
        "  m=Y.shape[1]\n",
        "  cost = -np.sum(np.multiply(np.log(AL),Y)+np.multiply(np.log(1-AL),(1-Y)))/m\n",
        "  cost=np.squeeze(cost)\n",
        "\n",
        "  return cost"
      ],
      "execution_count": null,
      "outputs": []
    },
    {
      "cell_type": "code",
      "metadata": {
        "id": "tF4HyxOIM-Iy",
        "colab_type": "code",
        "colab": {}
      },
      "source": [
        "# cost computation using regularization\n",
        "# function inputs are AL,Y,parameters,lambd\n",
        "# function returns cost\n",
        "\n",
        "def regularization_cost_compute(AL,Y,parameters,lambd):\n",
        "  m=Y.shape[1]\n",
        "  L=len(parameters)//2\n",
        "  L2_regularization_cost=0\n",
        "\n",
        "  for l in range(1,L):\n",
        "    L2_regularization_cost += np.sum(np.square(parameters['W'+str(l)]))\n",
        "\n",
        "  L2_regularization_cost=L2_regularization_cost*lambd/(2*m)\n",
        "  cross_entropy_cost=cost_compute(AL,Y)\n",
        "  cost=cross_entropy_cost+L2_regularization_cost\n",
        "\n",
        "  return cost"
      ],
      "execution_count": null,
      "outputs": []
    },
    {
      "cell_type": "code",
      "metadata": {
        "id": "CGBcxM5A6VPr",
        "colab_type": "code",
        "colab": {}
      },
      "source": [
        "# linear backwar function\n",
        "# function inputs are dZ, cache where dZ is Gradient of cost with respect to linear output of current layer l and cache contains A_prev, W,b i.e linear cache for this layer.\n",
        "# function returns dA_prev,dW,db\n",
        "\n",
        "def linear_backward(dZ,cache):\n",
        "  A_prev,W,b =cache\n",
        "  m=A_prev.shape[1]\n",
        "\n",
        "  dW=1/m*np.dot(dZ,A_prev.T)\n",
        "  db=1/m*np.sum(dZ,axis=1,keepdims=True)\n",
        "  dA_prev=np.dot(W.T,dZ)\n",
        "\n",
        "  return dA_prev,dW,db\n"
      ],
      "execution_count": null,
      "outputs": []
    },
    {
      "cell_type": "code",
      "metadata": {
        "id": "Uu3c2lFU9zsd",
        "colab_type": "code",
        "colab": {}
      },
      "source": [
        "# linear activation backward function \n",
        "# function inputs are dA, cache where is dA is Gradient of cost with respect to activation output of current layer l and cache contain linear and activation cache of given layer l.\n",
        "# function returns dA_prev,dW,db\n",
        "\n",
        "def linear_activation_backward(dA,cache,activation):\n",
        "  linear_cache, activation_cache=cache\n",
        "\n",
        "  if activation=='relu':\n",
        "    dZ=relu_backward(dA,cache[1])\n",
        "    dA_prev, dW, db=linear_backward(dZ,cache[0])\n",
        "  elif activation=='sigmoid':\n",
        "    dZ=sigmoid_backward(dA,cache[1])\n",
        "    dA_prev, dW, db = linear_backward(dZ, cache[0])\n",
        "\n",
        "  return dA_prev,dW,db"
      ],
      "execution_count": null,
      "outputs": []
    },
    {
      "cell_type": "code",
      "metadata": {
        "id": "mb1xrojdA1r4",
        "colab_type": "code",
        "colab": {}
      },
      "source": [
        "# L layer backward function\n",
        "# function inputs are AL,Y,caches\n",
        "# function returns grads which contains all gradients\n",
        "\n",
        "def L_model_backward(AL,Y,caches):\n",
        "  grads={}\n",
        "  L=len(caches)\n",
        "  m=AL.shape[1]\n",
        "  Y=Y.reshape(AL.shape)\n",
        "  \n",
        "  dAL = -(np.divide(Y,AL)-np.divide(1-Y,1-AL))          # we don't include dAL in grads since is it of no use afterwards\n",
        "\n",
        "  current_cache=caches[L-1]\n",
        "  grads['dA'+str(L-1)],grads['dW'+str(L)],grads['db'+str(L)]=linear_activation_backward(dAL,current_cache,'sigmoid')\n",
        "\n",
        "  for l in reversed(range(L-1)):\n",
        "    current_cache=caches[l]\n",
        "    dA_prev_temp,dW_temp,db_temp=linear_activation_backward(grads['dA'+str(l+1)],current_cache,'relu')\n",
        "    grads['dA'+str(l)]=dA_prev_temp\n",
        "    grads['dW'+str(l+1)]=dW_temp\n",
        "    grads['db'+str(l+1)]=db_temp\n",
        "\n",
        "  return grads"
      ],
      "execution_count": null,
      "outputs": []
    },
    {
      "cell_type": "code",
      "metadata": {
        "id": "n23_MhzHHPW-",
        "colab_type": "code",
        "colab": {}
      },
      "source": [
        "# Adam optimization function\n",
        "# function inputs are momentum,RMSprop,grads, beta1, beta2, and number of epoch\n",
        "# function outputs are momentum, RMSprop\n",
        "\n",
        "def AdamOptimization(momentum,RMSprop,grads,beta1,beta2,epoch):\n",
        "  L=len(grads)\n",
        "  epoch=1\n",
        "\n",
        "  for l in range(1,L):\n",
        "    momentum['VdW'+str(l)]=beta1*momentum['VdW'+str(l)]+(1-beta1)*grads['dW'+str(l)]\n",
        "    momentum['Vdb'+str(l)]=beta1*momentum['Vdb'+str(l)]+(1-beta1)*grads['db'+str(l)]\n",
        "\n",
        "    momentum['VdW'+str(l)]=momentum['VdW'+str(l)]/(1-beta1**epoch)\n",
        "    momentum['Vdb'+str(l)]= momentum['Vdb'+str(l)]/(1-beta1**epoch)\n",
        "\n",
        "    RMSprop['SdW'+str(l)]=beta2*RMSprop['SdW'+str(l)]+(1-beta2)*(grads['dW'+str(l)]**2)\n",
        "    RMSprop['Sdb'+str(l)]=beta2*RMSprop['Sdb'+str(l)]+(1-beta2)*(grads['db'+str(l)]**2)\n",
        "\n",
        "    RMSprop['SdW'+str(l)]=RMSprop['SdW'+str(l)]/(1-beta2**epoch)\n",
        "    RMSprop['Sdb'+str(l)]=RMSprop['Sdb'+str(l)]/(1-beta2**epoch)\n",
        "    epoch +=1 \n",
        "\n",
        "    return momentum,RMSprop"
      ],
      "execution_count": null,
      "outputs": []
    },
    {
      "cell_type": "code",
      "metadata": {
        "id": "uLneIqVIF6Jj",
        "colab_type": "code",
        "colab": {}
      },
      "source": [
        "# update parameters function\n",
        "# function inputs are parameters,momentum,RMSprop,learning rate,epsilon,lambd,AL\n",
        "# function returns updated parameters\n",
        "\n",
        "def parameters_update(parameters,momentum,RMSprop,learning_rate,epsilon,lambd,AL):\n",
        "  L=len(parameters)//2\n",
        "  m=AL.shape[1]\n",
        "\n",
        "  for l in range(L):\n",
        "     parameters[\"W\" + str(l+1)] = parameters[\"W\" + str(l+1)]*(1-learning_rate*lambd/m) - learning_rate * momentum[\"VdW\" + str(l+1)] /(np.sqrt(RMSprop[\"SdW\" + str(l+1)])+epsilon)\n",
        "     parameters[\"b\" + str(l+1)] = parameters[\"b\" + str(l+1)]*(1-learning_rate*lambd/m) - learning_rate * momentum[\"Vdb\" + str(l+1)] /(np.sqrt(RMSprop[\"Sdb\" + str(l+1)])+epsilon)\n",
        "\n",
        "  return parameters"
      ],
      "execution_count": null,
      "outputs": []
    },
    {
      "cell_type": "code",
      "metadata": {
        "id": "lWasFejMHWzJ",
        "colab_type": "code",
        "colab": {}
      },
      "source": [
        "# Predict function\n",
        "# Function inputs are X and parameters \n",
        "# function returns an predictions array\n",
        "\n",
        "def predict(X, Y, parameters):\n",
        "  m=X.shape[1]\n",
        "  AL, cache = L_model_forward(X,parameters)\n",
        "  predictions=AL>0.5\n",
        "  print ('Accuracy: %d' % float((np.dot(Y,AL.T) + np.dot(1-Y,1-AL.T))/float(Y.size)*100) + '%')\n",
        "  return predictions \n",
        "  \n"
      ],
      "execution_count": null,
      "outputs": []
    },
    {
      "cell_type": "markdown",
      "metadata": {
        "id": "XdaE4sjbXpri",
        "colab_type": "text"
      },
      "source": [
        "L Layer Model function\n",
        "\n",
        "function inputs are X, Y, layer_dims, learning_rate, num_interations, lambd, beta1, beta2, epsilon, print_cost\n",
        "\n",
        "function returns parameters for further use\n",
        "\n"
      ]
    },
    {
      "cell_type": "code",
      "metadata": {
        "id": "gNnPJy2IYKP1",
        "colab_type": "code",
        "colab": {}
      },
      "source": [
        "def L_Layer_model(X,Y,layer_dims,learning_rate=0.001,num_iteration=10,lambd=0.1,beta1=0.9,beta2=0.999,epsilon=1e-8,print_cost=False):\n",
        "  np.random.seed(1)\n",
        "  costs=[]   # take care of cost per iteration\n",
        "\n",
        "  # initialize parameters\n",
        "  parameters, momentum ,RMSprop=initialize_parameters_L_layers(layer_dims)\n",
        "  epoch=1\n",
        "\n",
        "  #starting the loop\n",
        "  for i in range(0,num_iteration):\n",
        "  \n",
        "    # forward propagation (Linear - relu) for (L-1)layers and (Linear - sigmoid) for L th layer\n",
        "    AL,caches = L_model_forward(X,parameters)\n",
        "\n",
        "    # cost computation\n",
        "    cost= regularization_cost_compute(AL,Y,parameters,lambd)\n",
        "\n",
        "    # Backpropagation\n",
        "    grads=L_model_backward(AL,Y,caches)\n",
        "\n",
        "    # Adam Optimization \n",
        "    momentum,RMSprop=AdamOptimization(momentum, RMSprop,grads,beta1,beta2,epoch)\n",
        "    epoch = epoch+1\n",
        "\n",
        "    # parameters Update\n",
        "    parameters=parameters_update(parameters,momentum,RMSprop,learning_rate,epsilon,lambd , AL)\n",
        "\n",
        "    # cost printing\n",
        "    if print_cost:\n",
        "      print (\"Cost after iteration %i: %f\" %(i, cost))\n",
        "      costs.append(cost)\n",
        "\n",
        "  # cost function plot\n",
        "  plt.plot(np.squeeze(costs))\n",
        "  plt.ylabel('cost')\n",
        "  plt.xlabel('num_interation')\n",
        "  plt.title('learning_rate='+str(learning_rate))\n",
        "  plt.show\n",
        "\n",
        "  return parameters"
      ],
      "execution_count": null,
      "outputs": []
    },
    {
      "cell_type": "code",
      "metadata": {
        "id": "ZeOF3YFBdoJn",
        "colab_type": "code",
        "colab": {}
      },
      "source": [
        "from IPython.display import clear_output\n",
        "import matplotlib.pyplot as plt\n",
        "from matplotlib.pyplot import imshow\n",
        "import numpy as np\n",
        "import os\n",
        "from PIL import Image"
      ],
      "execution_count": 2,
      "outputs": []
    },
    {
      "cell_type": "code",
      "metadata": {
        "id": "Iibu_rcjpU3E",
        "colab_type": "code",
        "colab": {
          "base_uri": "https://localhost:8080/",
          "height": 121
        },
        "outputId": "e777ef67-f8a8-4ae3-9b86-7095f0605566"
      },
      "source": [
        "from google.colab import drive\n",
        "drive.mount('/content/gdrive')"
      ],
      "execution_count": 3,
      "outputs": [
        {
          "output_type": "stream",
          "text": [
            "Go to this URL in a browser: https://accounts.google.com/o/oauth2/auth?client_id=947318989803-6bn6qk8qdgf4n4g3pfee6491hc0brc4i.apps.googleusercontent.com&redirect_uri=urn%3aietf%3awg%3aoauth%3a2.0%3aoob&scope=email%20https%3a%2f%2fwww.googleapis.com%2fauth%2fdocs.test%20https%3a%2f%2fwww.googleapis.com%2fauth%2fdrive%20https%3a%2f%2fwww.googleapis.com%2fauth%2fdrive.photos.readonly%20https%3a%2f%2fwww.googleapis.com%2fauth%2fpeopleapi.readonly&response_type=code\n",
            "\n",
            "Enter your authorization code:\n",
            "··········\n",
            "Mounted at /content/gdrive\n"
          ],
          "name": "stdout"
        }
      ]
    },
    {
      "cell_type": "code",
      "metadata": {
        "id": "94tcMst5BRRq",
        "colab_type": "code",
        "colab": {}
      },
      "source": [
        "memes_0 = os.listdir(\"/content/gdrive/My Drive/Stage 3/meme\")   # Data link of memes stored at drive\n",
        "memes_total = len(memes_0)\n",
        "notes_0 = os.listdir(\"/content/gdrive/My Drive/Stage 3/note\")   # Data link of notes stored at drive\n",
        "notes_total = len(notes_0)"
      ],
      "execution_count": 4,
      "outputs": []
    },
    {
      "cell_type": "code",
      "metadata": {
        "id": "CcP-mCygBglJ",
        "colab_type": "code",
        "colab": {
          "base_uri": "https://localhost:8080/",
          "height": 34
        },
        "outputId": "1c554ec4-a232-4cf3-ec02-c5fc2c51771e"
      },
      "source": [
        "X_meme=[]\n",
        "Y_meme=[]\n",
        "i=0\n",
        "for meme in memes_0:\n",
        "  clear_output(wait=True)\n",
        "  r_path=f'/content/gdrive/My Drive/Stage 3/meme/{meme}'      # Data link of memes stored at drive\n",
        "  image=np.array(Image.open(r_path))\n",
        "  X_meme.append(image)\n",
        "  Y_meme.append(1)\n",
        "  i += 1\n",
        "  print(f\"Progress: {i}/{memes_total}\", flush=True)"
      ],
      "execution_count": 5,
      "outputs": [
        {
          "output_type": "stream",
          "text": [
            "Progress: 800/800\n"
          ],
          "name": "stdout"
        }
      ]
    },
    {
      "cell_type": "code",
      "metadata": {
        "id": "Viq8eJYQny0N",
        "colab_type": "code",
        "colab": {
          "base_uri": "https://localhost:8080/",
          "height": 34
        },
        "outputId": "9404821a-4a23-4a0d-c249-8af1ca82dccf"
      },
      "source": [
        "X_note=[]\n",
        "Y_note=[]\n",
        "i=0\n",
        "for note in notes_0:\n",
        "  clear_output(wait=True)\n",
        "  w_path=f'/content/gdrive/My Drive/Stage 3/note/{note}'     # Data link of notes stored at drive\n",
        "  image=np.array(Image.open(w_path))\n",
        "  X_note.append(image)\n",
        "  Y_note.append(0)\n",
        "  i += 1\n",
        "  print(f\"Progress: {i}/{notes_total}\", flush=True)"
      ],
      "execution_count": 6,
      "outputs": [
        {
          "output_type": "stream",
          "text": [
            "Progress: 800/800\n"
          ],
          "name": "stdout"
        }
      ]
    },
    {
      "cell_type": "code",
      "metadata": {
        "id": "hPXUx1SfEvjq",
        "colab_type": "code",
        "colab": {}
      },
      "source": [
        "X_meme=np.array(X_meme)\n",
        "Y_meme=np.array(Y_meme)\n",
        "\n",
        "X_note=np.array(X_note)\n",
        "Y_note=np.array(Y_note)"
      ],
      "execution_count": null,
      "outputs": []
    },
    {
      "cell_type": "code",
      "metadata": {
        "id": "ZIgTaYswR9z-",
        "colab_type": "code",
        "colab": {}
      },
      "source": [
        "# Input Output parameters defining\n",
        "# function Inputs are X_meme,X_note,Y_meme,Y_note\n",
        "# function returns x_train,x_dev,x_test,y_train,y_dev,y_test\n",
        "\n",
        "def Input_parameters(X_meme,X_note,Y_meme,Y_note):\n",
        "  from sklearn .model_selection import train_test_split\n",
        "  x_meme_train, x_meme_test, y_meme_train, y_meme_test = train_test_split(X_meme,Y_meme,test_size =0.25,random_state = 50)\n",
        "  x_meme_dev, x_meme_test, y_meme_dev, y_meme_test = train_test_split(x_meme_test,y_meme_test,test_size =0.5,random_state = 50)\n",
        "  x_note_train, x_note_test, y_note_train, y_note_test = train_test_split(X_note,Y_note,test_size =0.25,random_state = 50)\n",
        "  x_note_dev, x_note_test, y_note_dev, y_note_test = train_test_split(x_note_test,y_note_test,test_size =0.5,random_state = 50)\n",
        "\n",
        "  x_test=x_meme_test+x_note_test\n",
        "  x_train=x_meme_train+x_note_train\n",
        "  x_dev=x_meme_dev+x_note_dev\n",
        "  y_test=y_meme_test+y_note_test\n",
        "  y_train=y_meme_train+y_note_train\n",
        "  y_dev=y_meme_dev+y_note_dev\n",
        "\n",
        "  np.random.seed(3)\n",
        "  np.random.shuffle(x_train)\n",
        "  np.random.seed(3)\n",
        "  np.random.shuffle(y_train)\n",
        "  np.random.seed(3)\n",
        "  np.random.shuffle(x_dev)\n",
        "  np.random.seed(3)\n",
        "  np.random.shuffle(y_dev)\n",
        "  np.random.seed(3)\n",
        "  np.random.shuffle(x_test)\n",
        "  np.random.seed(3)\n",
        "  np.random.shuffle(y_test)\n",
        "\n",
        "  return x_train,x_dev,x_test,y_train,y_dev,y_test"
      ],
      "execution_count": null,
      "outputs": []
    },
    {
      "cell_type": "code",
      "metadata": {
        "id": "_cxgIO2Odi5w",
        "colab_type": "code",
        "colab": {}
      },
      "source": [
        "x_train,x_dev,x_test,y_train,y_dev,y_test=Input_parameters(X_meme,X_note,Y_meme,Y_note)"
      ],
      "execution_count": null,
      "outputs": []
    },
    {
      "cell_type": "code",
      "metadata": {
        "id": "wFCJ1nNkqU5Y",
        "colab_type": "code",
        "colab": {}
      },
      "source": [
        "# y function reshape\n",
        "# function inputs are y_train,y_dev,y_test\n",
        "# function returns y_train,y_dev,y_test\n",
        "\n",
        "def y_reshape(y_train,y_dev,y_test):\n",
        "  y_train=y_train.reshape(1,y_train.shape[0])\n",
        "  y_dev=y_dev.reshape(1,y_dev.shape[0])\n",
        "  y_test=y_test.reshape(1,y_test.shape[0])\n",
        "\n",
        "  return y_train,y_dev,y_test"
      ],
      "execution_count": null,
      "outputs": []
    },
    {
      "cell_type": "code",
      "metadata": {
        "id": "Y3Jix2lNuw59",
        "colab_type": "code",
        "colab": {}
      },
      "source": [
        "y_train,y_dev,y_test=y_reshape(y_train,y_dev,y_test)"
      ],
      "execution_count": null,
      "outputs": []
    },
    {
      "cell_type": "code",
      "metadata": {
        "id": "ZgLUiQaWvUk0",
        "colab_type": "code",
        "colab": {}
      },
      "source": [
        "# X input flatten function\n",
        "# function inputs are x_train,x_dev,x_test\n",
        "# function returns x_train,x_dev,x_test\n",
        "\n",
        "def x_flatten(x_train,x_dev,x_test):\n",
        "  x_train=x_train.reshape(x_train.shape[0],-1).T/255\n",
        "  x_dev=x_dev.reshape(x_dev.shape[0],-1).T/255\n",
        "  x_test=x_test.reshape(x_test.shape[0],-1).T/255\n",
        "\n",
        "  return x_train,x_dev,x_test"
      ],
      "execution_count": null,
      "outputs": []
    },
    {
      "cell_type": "code",
      "metadata": {
        "id": "UmKKddXtv-99",
        "colab_type": "code",
        "colab": {}
      },
      "source": [
        "x_train,x_dev,x_test=x_flatten(x_train,x_dev,x_test)"
      ],
      "execution_count": null,
      "outputs": []
    },
    {
      "cell_type": "code",
      "metadata": {
        "id": "sY7jJ1Jqu0C0",
        "colab_type": "code",
        "colab": {
          "base_uri": "https://localhost:8080/",
          "height": 481
        },
        "outputId": "2343daaa-5701-4b4f-855f-4f69148565af"
      },
      "source": [
        "parameters=L_Layer_model(x_train,y_train,layer_dims=[x_train.shape[0],100,50,25,10,5,1],learning_rate=0.0001,num_iteration=10,lambd=0.1,beta1=0.9,beta2=0.999,epsilon=1e-8,print_cost=True)\n",
        "prediction=predict(x_train,y_train,parameters)"
      ],
      "execution_count": null,
      "outputs": [
        {
          "output_type": "stream",
          "text": [
            "Cost after iteration 0: 0.467750\n",
            "Cost after iteration 1: 0.138414\n",
            "Cost after iteration 2: 0.096300\n",
            "Cost after iteration 3: 0.087309\n",
            "Cost after iteration 4: 0.084958\n",
            "Cost after iteration 5: 0.084305\n",
            "Cost after iteration 6: 0.084121\n",
            "Cost after iteration 7: 0.084068\n",
            "Cost after iteration 8: 0.084053\n",
            "Cost after iteration 9: 0.084049\n",
            "Accuracy: 94%\n"
          ],
          "name": "stdout"
        },
        {
          "output_type": "display_data",
          "data": {
            "image/png": "[encoded data removed]",
            "text/plain": [
              "<Figure size 432x288 with 1 Axes>"
            ]
          },
          "metadata": {
            "tags": [],
            "needs_background": "light"
          }
        }
      ]
    },
    {
      "cell_type": "code",
      "metadata": {
        "id": "vvyqETtQvJ_P",
        "colab_type": "code",
        "colab": {
          "base_uri": "https://localhost:8080/",
          "height": 481
        },
        "outputId": "11c412ef-fdbf-4c00-f726-bf102a93dc70"
      },
      "source": [
        "parameters=L_Layer_model(x_dev,y_dev,layer_dims=[x_dev.shape[0],500,100,25,10,5,1],learning_rate=0.0001,num_iteration=10,lambd=0.1,beta1=0.9,beta2=0.999,epsilon=1e-8,print_cost=True)\n",
        "prediction=predict(x_dev,y_dev,parameters)"
      ],
      "execution_count": null,
      "outputs": [
        {
          "output_type": "stream",
          "text": [
            "Cost after iteration 0: 1.398918\n",
            "Cost after iteration 1: 0.644113\n",
            "Cost after iteration 2: 0.641349\n",
            "Cost after iteration 3: 0.640959\n",
            "Cost after iteration 4: 0.640868\n",
            "Cost after iteration 5: 0.640843\n",
            "Cost after iteration 6: 0.640836\n",
            "Cost after iteration 7: 0.640834\n",
            "Cost after iteration 8: 0.640834\n",
            "Cost after iteration 9: 0.640833\n",
            "Accuracy: 99%\n"
          ],
          "name": "stdout"
        },
        {
          "output_type": "display_data",
          "data": {
            "image/png": "[encoded data removed]",
            "text/plain": [
              "<Figure size 432x288 with 1 Axes>"
            ]
          },
          "metadata": {
            "tags": [],
            "needs_background": "light"
          }
        }
      ]
    },
    {
      "cell_type": "code",
      "metadata": {
        "id": "xR8a5m8Bxoh0",
        "colab_type": "code",
        "colab": {
          "base_uri": "https://localhost:8080/",
          "height": 34
        },
        "outputId": "28382164-ae43-402b-814b-6ed4d235ba0e"
      },
      "source": [
        "prediction = predict(x_test,y_test,parameters)"
      ],
      "execution_count": null,
      "outputs": [
        {
          "output_type": "stream",
          "text": [
            "Accuracy: 99%\n"
          ],
          "name": "stdout"
        }
      ]
    },
    {
      "cell_type": "code",
      "metadata": {
        "id": "q9evHZ7j8pkl",
        "colab_type": "code",
        "colab": {}
      },
      "source": [
        ""
      ],
      "execution_count": null,
      "outputs": []
    }
  ]
}