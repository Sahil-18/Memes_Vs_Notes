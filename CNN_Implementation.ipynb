{
  "nbformat": 4,
  "nbformat_minor": 0,
  "metadata": {
    "colab": {
      "name": "CNN_Implementation.ipynb",
      "provenance": [],
      "collapsed_sections": [],
      "authorship_tag": "ABX9TyPc7gQf0N6kUp4Siw9EOV5U",
      "include_colab_link": true
    },
    "kernelspec": {
      "name": "python3",
      "display_name": "Python 3"
    }
  },
  "cells": [
    {
      "cell_type": "markdown",
      "metadata": {
        "id": "view-in-github",
        "colab_type": "text"
      },
      "source": [
        "<a href=\"https://colab.research.google.com/github/Sahil-18/Memes_Vs_Notes/blob/master/CNN_Implementation.ipynb\" target=\"_parent\"><img src=\"https://colab.research.google.com/assets/colab-badge.svg\" alt=\"Open In Colab\"/></a>"
      ]
    },
    {
      "cell_type": "code",
      "metadata": {
        "id": "-UAjoz8TxM4t",
        "colab_type": "code",
        "colab": {}
      },
      "source": [
        "import numpy as np\n",
        "import pandas as pd\n",
        "import torch\n",
        "import PIL\n",
        "from PIL import Image\n",
        "import matplotlib.pyplot as plt\n",
        "import h5py\n",
        "import scipy\n",
        "from scipy import ndimage\n",
        "%matplotlib inline"
      ],
      "execution_count": 1,
      "outputs": []
    },
    {
      "cell_type": "code",
      "metadata": {
        "id": "A9AAjbBSx1Ag",
        "colab_type": "code",
        "colab": {}
      },
      "source": [
        "from torch.autograd import variable\n",
        "from torch.nn import Linear,ReLU,CrossEntropyLoss,Conv2d,MaxPool2d,Softmax, BatchNorm2d,Sequential,Module\n",
        "from torch.optim import Adam\n",
        "\n",
        "import sklearn\n",
        "from sklearn.metrics import accuracy_score\n",
        "from sklearn.model_selection import train_test_split"
      ],
      "execution_count": 2,
      "outputs": []
    },
    {
      "cell_type": "code",
      "metadata": {
        "id": "mWOHP5v07Arb",
        "colab_type": "code",
        "colab": {}
      },
      "source": [
        "# Loading Dataset\n",
        "import os\n",
        "from IPython.display import clear_output\n",
        "from matplotlib.pyplot import imshow"
      ],
      "execution_count": 3,
      "outputs": []
    },
    {
      "cell_type": "code",
      "metadata": {
        "id": "Siqe2MaV8zC8",
        "colab_type": "code",
        "colab": {
          "base_uri": "https://localhost:8080/",
          "height": 34
        },
        "outputId": "87150f38-4c05-4e3f-c2a4-5bd65f73550e"
      },
      "source": [
        "from google.colab import drive\n",
        "drive.mount('/content/gdrive')"
      ],
      "execution_count": 4,
      "outputs": [
        {
          "output_type": "stream",
          "text": [
            "Drive already mounted at /content/gdrive; to attempt to forcibly remount, call drive.mount(\"/content/gdrive\", force_remount=True).\n"
          ],
          "name": "stdout"
        }
      ]
    },
    {
      "cell_type": "code",
      "metadata": {
        "id": "-55qcEOh85vM",
        "colab_type": "code",
        "colab": {}
      },
      "source": [
        "memes_0 = os.listdir(\"/content/gdrive/My Drive/Stage 3/meme\")         # Data link of memes stored at drive\n",
        "memes_total = len(memes_0)\n",
        "notes_0 = os.listdir(\"/content/gdrive/My Drive/Stage 3/note\")         # Data link of notes stored at drive\n",
        "notes_total = len(notes_0)"
      ],
      "execution_count": 15,
      "outputs": []
    },
    {
      "cell_type": "code",
      "metadata": {
        "id": "RAJarHP49BsB",
        "colab_type": "code",
        "colab": {
          "base_uri": "https://localhost:8080/",
          "height": 34
        },
        "outputId": "f244b6a8-a18f-4fdf-a67f-6829b281ffb6"
      },
      "source": [
        "X_meme=[]\n",
        "Y_meme=[]\n",
        "i=0\n",
        "for meme in memes_0:\n",
        "  clear_output(wait=True)\n",
        "  r_path=f'/content/gdrive/My Drive/Stage 3/meme/{meme}'      # Data link of memes stored at drive\n",
        "  image=np.array(Image.open(r_path))\n",
        "  X_meme.append(image)\n",
        "  Y_meme.append(1)\n",
        "  i += 1\n",
        "  print(f\"Progress: {i}/{memes_total}\", flush=True)"
      ],
      "execution_count": 16,
      "outputs": [
        {
          "output_type": "stream",
          "text": [
            "Progress: 800/800\n"
          ],
          "name": "stdout"
        }
      ]
    },
    {
      "cell_type": "code",
      "metadata": {
        "id": "d4OZj3rW9HKr",
        "colab_type": "code",
        "colab": {
          "base_uri": "https://localhost:8080/",
          "height": 34
        },
        "outputId": "ffaae36e-e25a-4145-c46d-65fc59a668fc"
      },
      "source": [
        "X_note=[]\n",
        "Y_note=[]\n",
        "i=0\n",
        "for note in notes_0:\n",
        "  clear_output(wait=True)\n",
        "  w_path=f'/content/gdrive/My Drive/Stage 3/note/{note}'    # Data link of notes stored at drive\n",
        "  image=np.array(Image.open(w_path))\n",
        "  X_note.append(image)\n",
        "  Y_note.append(0)\n",
        "  i += 1\n",
        "  print(f\"Progress: {i}/{notes_total}\", flush=True)"
      ],
      "execution_count": 17,
      "outputs": [
        {
          "output_type": "stream",
          "text": [
            "Progress: 800/800\n"
          ],
          "name": "stdout"
        }
      ]
    },
    {
      "cell_type": "code",
      "metadata": {
        "id": "byJDiFBE9R23",
        "colab_type": "code",
        "colab": {}
      },
      "source": [
        "X_meme=np.array(X_meme)\n",
        "Y_meme=np.array(Y_meme)\n",
        "\n",
        "X_note=np.array(X_note)\n",
        "Y_note=np.array(Y_note)"
      ],
      "execution_count": 8,
      "outputs": []
    },
    {
      "cell_type": "code",
      "metadata": {
        "id": "aKq218d2_onS",
        "colab_type": "code",
        "colab": {}
      },
      "source": [
        "def Input_parameters(X_meme,X_note,Y_meme,Y_note):\n",
        "  from sklearn .model_selection import train_test_split\n",
        "  x_meme_train, x_meme_test, y_meme_train, y_meme_test = train_test_split(X_meme,Y_meme,test_size =0.25,random_state = 50)\n",
        "  x_meme_dev, x_meme_test, y_meme_dev, y_meme_test = train_test_split(x_meme_test,y_meme_test,test_size =0.5,random_state = 50)\n",
        "  x_note_train, x_note_test, y_note_train, y_note_test = train_test_split(X_note,Y_note,test_size =0.25,random_state = 50)\n",
        "  x_note_dev, x_note_test, y_note_dev, y_note_test = train_test_split(x_note_test,y_note_test,test_size =0.5,random_state = 50)\n",
        "\n",
        "  x_test=x_meme_test+x_note_test\n",
        "  x_train=x_meme_train+x_note_train\n",
        "  x_dev=x_meme_dev+x_note_dev\n",
        "  y_test=y_meme_test+y_note_test\n",
        "  y_train=y_meme_train+y_note_train\n",
        "  y_dev=y_meme_dev+y_note_dev\n",
        "\n",
        "  np.random.seed(3)\n",
        "  np.random.shuffle(x_train)\n",
        "  np.random.seed(3)\n",
        "  np.random.shuffle(y_train)\n",
        "  np.random.seed(3)\n",
        "  np.random.shuffle(x_dev)\n",
        "  np.random.seed(3)\n",
        "  np.random.shuffle(y_dev)\n",
        "  np.random.seed(3)\n",
        "  np.random.shuffle(x_test)\n",
        "  np.random.seed(3)\n",
        "  np.random.shuffle(y_test)\n",
        "\n",
        "  return x_train,x_dev,x_test,y_train,y_dev,y_test"
      ],
      "execution_count": 9,
      "outputs": []
    },
    {
      "cell_type": "code",
      "metadata": {
        "id": "qZbhGZGr_s6w",
        "colab_type": "code",
        "colab": {
          "base_uri": "https://localhost:8080/",
          "height": 50
        },
        "outputId": "276008f2-da14-4cff-d0ce-c4df4417e56b"
      },
      "source": [
        "x_train,x_dev,x_test,y_train,y_dev,y_test=Input_parameters(X_meme,X_note,Y_meme,Y_note)\n",
        "x_train=torch.from_numpy(x_train)\n",
        "x_dev=torch.from_numpy(x_dev)\n",
        "x_test=torch.from_numpy(x_test)\n",
        "x_train=x_train.permute(0,3,1,2)\n",
        "x_dev=x_dev.permute(0,3,1,2)\n",
        "x_test=x_test.permute(0,3,1,2)\n",
        "\n",
        "y_train=torch.from_numpy(y_train)\n",
        "y_dev=torch.from_numpy(y_dev)\n",
        "y_test=torch.from_numpy(y_test)\n",
        "\n",
        "print(y_train.shape)\n",
        "print(x_train.shape)"
      ],
      "execution_count": 10,
      "outputs": [
        {
          "output_type": "stream",
          "text": [
            "torch.Size([600])\n",
            "torch.Size([600, 3, 64, 64])\n"
          ],
          "name": "stdout"
        }
      ]
    },
    {
      "cell_type": "markdown",
      "metadata": {
        "id": "wNM0j6EOA8NB",
        "colab_type": "text"
      },
      "source": [
        "Forming CNN architecture using 3 Convolutional layers to extract features from image\n",
        "\n",
        "Then using one fully connected dense layer to classify those features"
      ]
    },
    {
      "cell_type": "code",
      "metadata": {
        "id": "iBj26P-q_vlp",
        "colab_type": "code",
        "colab": {}
      },
      "source": [
        "class Net(Module):\n",
        "  def __init__(self):\n",
        "    super(Net, self).__init__()\n",
        "    self.cnn_layers = Sequential(\n",
        "        # Defining 2D convolution layer\n",
        "        Conv2d(3, 16, kernel_size=3, stride=1, padding=1),\n",
        "        BatchNorm2d(16),\n",
        "        ReLU(inplace=True),\n",
        "        MaxPool2d(kernel_size=2,stride=2),\n",
        "\n",
        "        # Defining another 2D convolution layer\n",
        "        Conv2d(16,32,kernel_size=3,stride=1,padding=1),\n",
        "        BatchNorm2d(32),\n",
        "        ReLU(inplace=True),\n",
        "        MaxPool2d(kernel_size=2,stride=2),\n",
        "\n",
        "        # Defining another 2D convolution layer\n",
        "        Conv2d(32,64,kernel_size=3,stride=1,padding=1),\n",
        "        BatchNorm2d(64),\n",
        "        ReLU(inplace=True),\n",
        "        MaxPool2d(kernel_size=2,stride=2),\n",
        "        \n",
        "        )\n",
        "    \n",
        "    self.linear_layers=Sequential(\n",
        "        Linear(8*64*8,256),\n",
        "        ReLU(),\n",
        "        Linear(256,64),\n",
        "        ReLU(),\n",
        "        Linear(64,2),\n",
        "    )\n",
        "  # Defining forward pass\n",
        "\n",
        "  def forward(self,x):\n",
        "    x=self.cnn_layers(x)\n",
        "    x=x.view(x.shape[0],-1)\n",
        "    x=self.linear_layers(x)\n",
        "    return x\n"
      ],
      "execution_count": 11,
      "outputs": []
    },
    {
      "cell_type": "code",
      "metadata": {
        "id": "p-sOWUvTBvY-",
        "colab_type": "code",
        "colab": {}
      },
      "source": [
        "# Calling this model and defining optimization and loss of the model\n",
        "model = Net()\n",
        "# defining optimization\n",
        "optimizer=Adam(model.parameters(), lr=0.05)\n",
        "# defining loss of the model\n",
        "criterion= CrossEntropyLoss()"
      ],
      "execution_count": 12,
      "outputs": []
    },
    {
      "cell_type": "code",
      "metadata": {
        "id": "rSgo5T5jG3Ry",
        "colab_type": "code",
        "colab": {}
      },
      "source": [
        "\n",
        "# Defining a function to train the model\n",
        "\n",
        "def train(epoch,x_train,y_train,x_dev,y_dev):\n",
        "  model.train()\n",
        "  tr_loss=0\n",
        "  # training set gaining\n",
        "  train_x,train_y= x_train,y_train\n",
        "  # dev set gaining\n",
        "  dev_x,dev_=x_dev, y_dev\n",
        "\n",
        "  # clearing gradients of model parameters\n",
        "  optimizer.zero_grad()\n",
        "\n",
        "  # prediction of output for trainig and dev set\n",
        "  output_train=model(train_x.float())\n",
        "  output_dev=model(dev_x.float())\n",
        "   \n",
        "  # calculating loss over training and dev set\n",
        "  loss_train=criterion(output_train,y_train)\n",
        "  loss_dev=criterion(output_dev,y_dev)\n",
        "  train_losses.append(loss_train)\n",
        "  dev_losses.append(loss_dev)\n",
        "\n",
        "  # computing updated wieghts of all model parameters\n",
        "  loss_train.backward()   # gradient calculation of parameters\n",
        "  optimizer.step()  # update parameter based on current grads\n",
        "  tr_loss = loss_train.item()\n",
        "  print('Epoch : ',epoch+1, '\\t', 'loss :', tr_loss)"
      ],
      "execution_count": 13,
      "outputs": []
    },
    {
      "cell_type": "code",
      "metadata": {
        "id": "DnQs86hrNKRU",
        "colab_type": "code",
        "colab": {
          "base_uri": "https://localhost:8080/",
          "height": 433
        },
        "outputId": "ed0eeb35-c441-4bb8-a2cd-65ca0cd05870"
      },
      "source": [
        "# training the model over 10 epoch\n",
        "\n",
        "n_epoch=10\n",
        "train_losses=[]\n",
        "dev_losses=[]\n",
        "\n",
        "for epoch in range(n_epoch):\n",
        "  train(epoch,x_train,y_train,x_dev,y_dev)\n",
        "\n",
        "# Plotting the training and dev loss\n",
        "plt.plot(train_losses, label='Training loss')\n",
        "plt.plot(dev_losses, label='Validation loss')\n",
        "plt.legend()\n",
        "plt.show()"
      ],
      "execution_count": 14,
      "outputs": [
        {
          "output_type": "stream",
          "text": [
            "Epoch :  1 \t loss : 0.6496109366416931\n",
            "Epoch :  2 \t loss : 0.0\n",
            "Epoch :  3 \t loss : 0.0\n",
            "Epoch :  4 \t loss : 0.0\n",
            "Epoch :  5 \t loss : 0.0\n",
            "Epoch :  6 \t loss : 0.0\n",
            "Epoch :  7 \t loss : 0.0\n",
            "Epoch :  8 \t loss : 0.0\n",
            "Epoch :  9 \t loss : 0.0\n",
            "Epoch :  10 \t loss : 0.0\n"
          ],
          "name": "stdout"
        },
        {
          "output_type": "display_data",
          "data": {
            "image/png": "[encoded data removed]",
            "text/plain": [
              "<Figure size 432x288 with 1 Axes>"
            ]
          },
          "metadata": {
            "tags": [],
            "needs_background": "light"
          }
        }
      ]
    },
    {
      "cell_type": "code",
      "metadata": {
        "id": "XrmAgNcoQEmz",
        "colab_type": "code",
        "colab": {
          "base_uri": "https://localhost:8080/",
          "height": 34
        },
        "outputId": "cb6daa92-4261-4ec4-f957-55a3b82500a2"
      },
      "source": [
        "# prediction for training set\n",
        "import math\n",
        "with torch.no_grad():\n",
        "    output = model(x_train.float())\n",
        "    \n",
        "softmax = torch.exp(output).cpu()\n",
        "prob = list(softmax.numpy())\n",
        "predictions = np.argmax(prob, axis=1)\n",
        "\n",
        "# accuracy on training set\n",
        "print(accuracy_score(y_train, predictions))"
      ],
      "execution_count": 125,
      "outputs": [
        {
          "output_type": "stream",
          "text": [
            "1.0\n"
          ],
          "name": "stdout"
        }
      ]
    },
    {
      "cell_type": "code",
      "metadata": {
        "id": "1kfOHp6ULbFw",
        "colab_type": "code",
        "colab": {
          "base_uri": "https://localhost:8080/",
          "height": 34
        },
        "outputId": "75491ab7-7df7-4bce-8996-e4fb7cc57522"
      },
      "source": [
        "with torch.no_grad():\n",
        "    output = model(x_dev.float())\n",
        "    \n",
        "softmax = torch.exp(output).cpu()\n",
        "prob = list(softmax.numpy())\n",
        "predictions = np.argmax(prob, axis=1)\n",
        "\n",
        "# accuracy on training set\n",
        "print(accuracy_score(y_dev, predictions))"
      ],
      "execution_count": 122,
      "outputs": [
        {
          "output_type": "stream",
          "text": [
            "1.0\n"
          ],
          "name": "stdout"
        }
      ]
    },
    {
      "cell_type": "code",
      "metadata": {
        "id": "Pa7TeXiHronS",
        "colab_type": "code",
        "colab": {
          "base_uri": "https://localhost:8080/",
          "height": 34
        },
        "outputId": "590bca35-70ad-45b9-8d29-cedf99a3b21a"
      },
      "source": [
        "with torch.no_grad():\n",
        "    output = model(x_test.float())\n",
        "    \n",
        "softmax = torch.exp(output).cpu()\n",
        "prob = list(softmax.numpy())\n",
        "predictions = np.argmax(prob, axis=1)\n",
        "\n",
        "# accuracy on training set\n",
        "print(accuracy_score(y_test, predictions))"
      ],
      "execution_count": 123,
      "outputs": [
        {
          "output_type": "stream",
          "text": [
            "1.0\n"
          ],
          "name": "stdout"
        }
      ]
    },
    {
      "cell_type": "code",
      "metadata": {
        "id": "N2KCXMTkrsad",
        "colab_type": "code",
        "colab": {}
      },
      "source": [
        ""
      ],
      "execution_count": null,
      "outputs": []
    }
  ]
}